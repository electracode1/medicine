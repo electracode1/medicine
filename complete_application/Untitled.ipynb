{
 "cells": [
  {
   "cell_type": "code",
   "execution_count": 4,
   "id": "e132f316",
   "metadata": {},
   "outputs": [
    {
     "name": "stdout",
     "output_type": "stream",
     "text": [
      "CSV file saved successfully.\n"
     ]
    }
   ],
   "source": [
    "import pandas as pd\n",
    "import random\n",
    "import string\n",
    "\n",
    "# List of medicine names\n",
    "medicine_names = [\n",
    "    'Acetaminophen', 'Ibuprofen', 'Aspirin', 'Dextramethophan', 'Guaifenisin',\n",
    "    'Codeine', 'Tylenol', 'Phenylephrine', 'Pseudoephedrine', 'Exedrin',\n",
    "    'Antihistamines', 'Afrin', 'Analgesics', 'Decongestant', 'Alavert',\n",
    "    'Benadryl', 'Paracetamol', 'Panadol', 'Advil', 'Nystatin', 'Cephalexin'\n",
    "]\n",
    "\n",
    "# Function to generate random company names\n",
    "def generate_company_name():\n",
    "    return ''.join(random.choices(string.ascii_uppercase, k=8))\n",
    "\n",
    "# Generate random prices for each medicine and each company\n",
    "data = {\n",
    "    'medicine_names': [],\n",
    "    'company_name': [],\n",
    "    'price': []\n",
    "}\n",
    "\n",
    "num_companies_per_medicine = 4\n",
    "\n",
    "for medicine in medicine_names:\n",
    "    companies = [generate_company_name() for _ in range(num_companies_per_medicine)]\n",
    "    prices = [round(random.uniform(5, 50), 2) for _ in range(num_companies_per_medicine)]\n",
    "    data['medicine_names'].extend([medicine] * num_companies_per_medicine)\n",
    "    data['company_name'].extend(companies)\n",
    "    data['price'].extend(prices)\n",
    "\n",
    "# Creating DataFrame\n",
    "df = pd.DataFrame(data)\n",
    "\n",
    "# Save DataFrame to CSV\n",
    "df.to_csv('medicine_data.csv', index=False)\n",
    "\n",
    "print(\"CSV file saved successfully.\")\n"
   ]
  },
  {
   "cell_type": "code",
   "execution_count": 2,
   "id": "19e58121",
   "metadata": {},
   "outputs": [],
   "source": []
  },
  {
   "cell_type": "code",
   "execution_count": null,
   "id": "205d3dcf",
   "metadata": {},
   "outputs": [],
   "source": []
  }
 ],
 "metadata": {
  "kernelspec": {
   "display_name": "kaggle_model",
   "language": "python",
   "name": "kaggle_model"
  },
  "language_info": {
   "codemirror_mode": {
    "name": "ipython",
    "version": 3
   },
   "file_extension": ".py",
   "mimetype": "text/x-python",
   "name": "python",
   "nbconvert_exporter": "python",
   "pygments_lexer": "ipython3",
   "version": "3.10.12"
  }
 },
 "nbformat": 4,
 "nbformat_minor": 5
}
