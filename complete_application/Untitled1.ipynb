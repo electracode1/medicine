{
 "cells": [
  {
   "cell_type": "code",
   "execution_count": 1,
   "id": "77c1905f",
   "metadata": {},
   "outputs": [
    {
     "name": "stdout",
     "output_type": "stream",
     "text": [
      "CSV file has been created successfully.\n"
     ]
    }
   ],
   "source": [
    "import pandas as pd\n",
    "\n",
    "# Data structure for the medicines\n",
    "data = [\n",
    "    {\"medicine_name\": \"Acetaminophen\", \"chemical_composition\": \"Acetaminophen\", \"disease_to_be_treated\": \"Pain, Fever\", \"symptoms_to_be_treated\": \"Headache, Body pain, Fever\", \"age_restriction\": \"Adults and children over 6 years\", \"doses_per_day\": \"4\", \"side_effect_yes_no\": \"Yes\", \"max_days_taken\": \"7\"},\n",
    "    {\"medicine_name\": \"Ibuprofen\", \"chemical_composition\": \"Ibuprofen\", \"disease_to_be_treated\": \"Pain, Inflammation\", \"symptoms_to_be_treated\": \"Headache, Muscle pain, Arthritis\", \"age_restriction\": \"Adults and children over 6 months\", \"doses_per_day\": \"3\", \"side_effect_yes_no\": \"Yes\", \"max_days_taken\": \"7\"},\n",
    "    {\"medicine_name\": \"Aspirin\", \"chemical_composition\": \"Acetylsalicylic Acid\", \"disease_to_be_treated\": \"Pain, Inflammation\", \"symptoms_to_be_treated\": \"Headache, Arthritis, Heart attack prevention\", \"age_restriction\": \"Not recommended for children under 12\", \"doses_per_day\": \"4\", \"side_effect_yes_no\": \"Yes\", \"max_days_taken\": \"7\"},\n",
    "    {\"medicine_name\": \"Dextramethophan\", \"chemical_composition\": \"Dextramethorphan\", \"disease_to_be_treated\": \"Cough\", \"symptoms_to_be_treated\": \"Cough, Throat irritation\", \"age_restriction\": \"Not recommended for children under 2\", \"doses_per_day\": \"4\", \"side_effect_yes_no\": \"Yes\", \"max_days_taken\": \"7\"},\n",
    "    {\"medicine_name\": \"Guaifenisin\", \"chemical_composition\": \"Guaifenesin\", \"disease_to_be_treated\": \"Cough, Mucus buildup\", \"symptoms_to_be_treated\": \"Chest congestion, Mucus clearance\", \"age_restriction\": \"Adults and children over 12 years\", \"doses_per_day\": \"4\", \"side_effect_yes_no\": \"Yes\", \"max_days_taken\": \"7\"},\n",
    "    {\"medicine_name\": \"Codeine\", \"chemical_composition\": \"Codeine\", \"disease_to_be_treated\": \"Pain, Cough\", \"symptoms_to_be_treated\": \"Pain, Cough suppression\", \"age_restriction\": \"Adults, caution for children\", \"doses_per_day\": \"4\", \"side_effect_yes_no\": \"Yes\", \"max_days_taken\": \"3\"},\n",
    "    {\"medicine_name\": \"Tylenol\", \"chemical_composition\": \"Acetaminophen\", \"disease_to_be_treated\": \"Pain, Fever\", \"symptoms_to_be_treated\": \"Headache, Body pain, Fever\", \"age_restriction\": \"Adults and children over 6 years\", \"doses_per_day\": \"4\", \"side_effect_yes_no\": \"Yes\", \"max_days_taken\": \"7\"},\n",
    "    {\"medicine_name\": \"Phenylephrine\", \"chemical_composition\": \"Phenylephrine\", \"disease_to_be_treated\": \"Nasal congestion\", \"symptoms_to_be_treated\": \"Stuffed nose, Nasal congestion\", \"age_restriction\": \"Adults and children over 12 years\", \"doses_per_day\": \"3\", \"side_effect_yes_no\": \"Yes\", \"max_days_taken\": \"7\"},\n",
    "    {\"medicine_name\": \"Pseudoephedrine\", \"chemical_composition\": \"Pseudoephedrine\", \"disease_to_be_treated\": \"Nasal congestion\", \"symptoms_to_be_treated\": \"Stuffed nose, Sinus congestion\", \"age_restriction\": \"Adults and children over 6 years\", \"doses_per_day\": \"3\", \"side_effect_yes_no\": \"Yes\", \"max_days_taken\": \"7\"},\n",
    "    {\"medicine_name\": \"Exedrin\", \"chemical_composition\": \"Acetaminophen, Aspirin, Caffeine\", \"disease_to_be_treated\": \"Headache\", \"symptoms_to_be_treated\": \"Headache, Migraine\", \"age_restriction\": \"Adults\", \"doses_per_day\": \"3\", \"side_effect_yes_no\": \"Yes\", \"max_days_taken\": \"7\"},\n",
    "    {\"medicine_name\": \"Alavert\", \"chemical_composition\": \"Loratadine\", \"disease_to_be_treated\": \"Allergy\", \"symptoms_to_be_treated\": \"Sneezing, Itchy eyes, Runny nose\", \"age_restriction\": \"Adults and children over 6 years\", \"doses_per_day\": \"1\", \"side_effect_yes_no\": \"Yes\", \"max_days_taken\": \"10\"},\n",
    "    {\"medicine_name\": \"Benadryl\", \"chemical_composition\": \"Diphenhydramine\", \"disease_to_be_treated\": \"Allergy, Insomnia\", \"symptoms_to_be_treated\": \"Allergy, Sneezing, Itchy eyes, Sleep aid\", \"age_restriction\": \"Adults and children over 6 years\", \"doses_per_day\": \"4\", \"side_effect_yes_no\": \"Yes\", \"max_days_taken\": \"7\"},\n",
    "    {\"medicine_name\": \"Paracetamol\", \"chemical_composition\": \"Paracetamol\", \"disease_to_be_treated\": \"Pain, Fever\", \"symptoms_to_be_treated\": \"Headache, Body pain, Fever\", \"age_restriction\": \"Adults and children over 6 years\", \"doses_per_day\": \"4\", \"side_effect_yes_no\": \"Yes\", \"max_days_taken\": \"7\"},\n",
    "    {\"medicine_name\": \"Panadol\", \"chemical_composition\": \"Paracetamol\", \"disease_to_be_treated\": \"Pain, Fever\", \"symptoms_to_be_treated\": \"Headache, Fever\", \"age_restriction\": \"Adults and children over 6 years\", \"doses_per_day\": \"4\", \"side_effect_yes_no\": \"Yes\", \"max_days_taken\": \"7\"},\n",
    "    {\"medicine_name\": \"Advil\", \"chemical_composition\": \"Ibuprofen\", \"disease_to_be_treated\": \"Pain, Inflammation\", \"symptoms_to_be_treated\": \"Headache, Muscle pain, Arthritis\", \"age_restriction\": \"Adults and children over 6 months\", \"doses_per_day\": \"3\", \"side_effect_yes_no\": \"Yes\", \"max_days_taken\": \"7\"},\n",
    "    {\"medicine_name\": \"Nystatin\", \"chemical_composition\": \"Nystatin\", \"disease_to_be_treated\": \"Fungal infections\", \"symptoms_to_be_treated\": \"Skin fungal infections, Oral thrush\", \"age_restriction\": \"Adults and children over 1 month\", \"doses_per_day\": \"3\", \"side_effect_yes_no\": \"Yes\", \"max_days_taken\": \"7\"},\n",
    "    {\"medicine_name\": \"Cephalexin\", \"chemical_composition\": \"Cephalexin\", \"disease_to_be_treated\": \"Bacterial infections\", \"symptoms_to_be_treated\": \"Infection, Skin infections, Respiratory infections\", \"age_restriction\": \"Adults and children over 1 year\", \"doses_per_day\": \"4\", \"side_effect_yes_no\": \"Yes\", \"max_days_taken\": \"10\"},\n",
    "]\n",
    "\n",
    "# Create DataFrame from the data\n",
    "df = pd.DataFrame(data)\n",
    "\n",
    "# Save to CSV\n",
    "df.to_csv('medicine_data_full.csv', index=False)\n",
    "\n",
    "print(\"CSV file has been created successfully.\")\n"
   ]
  },
  {
   "cell_type": "code",
   "execution_count": 3,
   "id": "5f456d2a",
   "metadata": {},
   "outputs": [
    {
     "name": "stdout",
     "output_type": "stream",
     "text": [
      "   medicine_name  chemical_composition disease_to_be_treated  \\\n",
      "0  Acetaminophen         Acetaminophen           Pain, Fever   \n",
      "1      Ibuprofen             Ibuprofen    Pain, Inflammation   \n",
      "2        Aspirin  Acetylsalicylic Acid    Pain, Inflammation   \n",
      "\n",
      "                         symptoms_to_be_treated  \\\n",
      "0                    Headache, Body pain, Fever   \n",
      "1              Headache, Muscle pain, Arthritis   \n",
      "2  Headache, Arthritis, Heart attack prevention   \n",
      "\n",
      "                         age_restriction  doses_per_day side_effect_yes_no  \\\n",
      "0       Adults and children over 6 years              4                Yes   \n",
      "1      Adults and children over 6 months              3                Yes   \n",
      "2  Not recommended for children under 12              4                Yes   \n",
      "\n",
      "   max_days_taken  \n",
      "0               7  \n",
      "1               7  \n",
      "2               7  \n"
     ]
    }
   ],
   "source": [
    "from flask import Flask, render_template, request\n",
    "import pandas as pd\n",
    "\n",
    "\n",
    "# Load the dataset from the CSV file (ensure the file path is correct)\n",
    "df = pd.read_csv('medicine_data_full.csv')\n",
    "\n",
    "# Sample list of medicine names (this can be dynamically passed to the route)\n",
    "medicine_names =['Acetaminophen', 'Aspirin', 'Ibuprofen', '']\n",
    "\n",
    "\n",
    "    # Fetch medicine details based on the list of medicine names\n",
    "filtered_data = df[df['medicine_name'].isin(medicine_names)]\n",
    "\n",
    "    # Pass the filtered data to the HTML template\n",
    "print(filtered_data)"
   ]
  },
  {
   "cell_type": "code",
   "execution_count": null,
   "id": "ae775170",
   "metadata": {},
   "outputs": [],
   "source": []
  }
 ],
 "metadata": {
  "kernelspec": {
   "display_name": "agri",
   "language": "python",
   "name": "agri"
  },
  "language_info": {
   "codemirror_mode": {
    "name": "ipython",
    "version": 3
   },
   "file_extension": ".py",
   "mimetype": "text/x-python",
   "name": "python",
   "nbconvert_exporter": "python",
   "pygments_lexer": "ipython3",
   "version": "3.7.11"
  }
 },
 "nbformat": 4,
 "nbformat_minor": 5
}
